{
 "cells": [
  {
   "cell_type": "code",
   "execution_count": 43,
   "metadata": {},
   "outputs": [],
   "source": [
    "import pandas as pd"
   ]
  },
  {
   "cell_type": "code",
   "execution_count": 2,
   "metadata": {},
   "outputs": [],
   "source": [
    "dfStart = pd.read_csv('start.csv', header = None)\n",
    "dfStart.columns = ['Stock', 'Price']\n",
    "dfStart.sort_values(by = ['Stock'], inplace = True)\n",
    "dfStart = dfStart.reset_index(drop=True)"
   ]
  },
  {
   "cell_type": "code",
   "execution_count": 3,
   "metadata": {},
   "outputs": [],
   "source": [
    "dfTrades = pd.read_csv('trades.csv', header = None)\n",
    "dfTrades.columns = ['Stock', 'Trades']"
   ]
  },
  {
   "cell_type": "code",
   "execution_count": 4,
   "metadata": {},
   "outputs": [],
   "source": [
    "dfTable = pd.read_html('table.html')[0]\n",
    "dfTable.rename(columns={\"Symbol\": \"Stock\"}, inplace=True)\n",
    "#pip3 install lxml"
   ]
  },
  {
   "cell_type": "code",
   "execution_count": 5,
   "metadata": {},
   "outputs": [],
   "source": [
    "dfEnd = dfTrades.groupby([dfTrades['Stock']]).sum()\n",
    "dfEnd.sort_values(by = ['Stock'], inplace = True)\n",
    "dfEnd.reset_index(level = ['Stock'], inplace = True)"
   ]
  },
  {
   "cell_type": "code",
   "execution_count": 6,
   "metadata": {},
   "outputs": [
    {
     "name": "stdout",
     "output_type": "stream",
     "text": [
      "['FCX', 'DGX', 'STZ', 'ALL', 'SNA', 'ACN', 'M', 'MO', 'KMI', 'UNP', 'ADS', 'PVH', 'LW']\n",
      "['AIZ', 'T', 'AXP']\n"
     ]
    }
   ],
   "source": [
    "a=[]\n",
    "b=[]\n",
    "for s,t in dfStart.iterrows():\n",
    "    a.append(t['Stock'])\n",
    "for p,q in dfEnd.iterrows():\n",
    "    b.append(q['Stock'])\n",
    "print(list(set(b)-set(a)))\n",
    "print(list(set(a)-set(b)))"
   ]
  },
  {
   "cell_type": "code",
   "execution_count": 7,
   "metadata": {},
   "outputs": [],
   "source": [
    "dfAppendToStart = pd.DataFrame([['PVH',0], ['ALL', 0], ['MO',0], ['ADS',0], ['LW',0], ['FCX',0], ['DGX',0], ['STZ',0], ['M',0], ['SNA',0], ['KMI',0], ['UNP',0], ['ACN',0]])\n",
    "dfAppendToStart.columns = ['Stock', 'Price']\n",
    "dfStart = dfStart.append(dfAppendToStart, ignore_index=True)\n",
    "dfStart.sort_values(by = ['Stock'], inplace = True)\n",
    "dfStart = dfStart.reset_index(drop=True)"
   ]
  },
  {
   "cell_type": "code",
   "execution_count": 8,
   "metadata": {},
   "outputs": [],
   "source": [
    "dfAppendToEnd = pd.DataFrame([['AXP',0], ['T',0], ['AIZ',0]])\n",
    "dfAppendToEnd.columns = ['Stock', 'Trades']\n",
    "dfEnd = dfEnd.append(dfAppendToEnd, ignore_index=True)\n",
    "dfEnd.sort_values(by = ['Stock'], inplace = True)\n",
    "dfEnd = dfEnd.reset_index(drop=True)"
   ]
  },
  {
   "cell_type": "code",
   "execution_count": 9,
   "metadata": {},
   "outputs": [],
   "source": [
    "dfEnd['Final Price'] = dfStart['Price'] + dfEnd['Trades']"
   ]
  },
  {
   "cell_type": "code",
   "execution_count": 10,
   "metadata": {},
   "outputs": [],
   "source": [
    "dfEnd = dfEnd.drop(columns=['Trades'], axis = 1)\n",
    "dfEnd.to_csv('eod.csv',index = False)"
   ]
  },
  {
   "cell_type": "code",
   "execution_count": null,
   "metadata": {},
   "outputs": [],
   "source": []
  },
  {
   "cell_type": "code",
   "execution_count": 11,
   "metadata": {},
   "outputs": [],
   "source": [
    "## Part 3"
   ]
  },
  {
   "cell_type": "code",
   "execution_count": 12,
   "metadata": {},
   "outputs": [],
   "source": [
    "dfMerge = pd.merge(dfEnd, dfTable, how = 'left', on = 'Stock')\n",
    "dfMerge = dfMerge.drop(columns = ['Final Price', 'Security','SEC filings', 'GICS Sub Industry', 'Headquarters Location', 'Date first added', 'CIK', 'Founded'], axis = 1)\n",
    "dfSector = dfMerge.groupby(['GICS Sector']).agg(['count'])\n",
    "dfSector.to_csv('sector.csv')"
   ]
  },
  {
   "cell_type": "code",
   "execution_count": null,
   "metadata": {},
   "outputs": [],
   "source": []
  },
  {
   "cell_type": "code",
   "execution_count": 13,
   "metadata": {},
   "outputs": [],
   "source": [
    "## Part 4"
   ]
  },
  {
   "cell_type": "code",
   "execution_count": 48,
   "metadata": {},
   "outputs": [],
   "source": [
    "import matplotlib.pyplot as plt\n",
    "from mpl_toolkits.basemap import Basemap\n",
    "import numpy as np"
   ]
  },
  {
   "cell_type": "code",
   "execution_count": 14,
   "metadata": {},
   "outputs": [],
   "source": [
    "dfHQ = dfTable\n",
    "dfHQ = dfHQ.drop(columns = ['GICS Sector', 'Security','SEC filings', 'GICS Sub Industry', 'Date first added', 'CIK', 'Founded'], axis = 1)\n",
    "dfHQ = dfHQ.groupby(['Headquarters Location']).agg(['count'])\n",
    "dfHQ = dfHQ.reset_index()"
   ]
  },
  {
   "cell_type": "code",
   "execution_count": 16,
   "metadata": {},
   "outputs": [],
   "source": [
    "from opencage.geocoder import OpenCageGeocode"
   ]
  },
  {
   "cell_type": "code",
   "execution_count": 17,
   "metadata": {},
   "outputs": [],
   "source": [
    "key = '44f3828578204a568c47f5f7047dcf0f'\n",
    "geocoder = OpenCageGeocode(key)"
   ]
  },
  {
   "cell_type": "code",
   "execution_count": 29,
   "metadata": {},
   "outputs": [],
   "source": [
    "list_lat = []\n",
    "list_long = []\n",
    "for index, row in dfHQ.iterrows():\n",
    "    \n",
    "    Address = row['Headquarters Location'][0]\n",
    "    query = str(Address)\n",
    "\n",
    "    results = geocoder.geocode(query)   \n",
    "    lat = results[0]['geometry']['lat']\n",
    "    long = results[0]['geometry']['lng']\n",
    "\n",
    "    list_lat.append(lat)\n",
    "    list_long.append(long)\n",
    "\n",
    "dfHQ['lat'] = list_lat   \n",
    "dfHQ['lon'] = list_long"
   ]
  },
  {
   "cell_type": "code",
   "execution_count": 54,
   "metadata": {},
   "outputs": [
    {
     "name": "stdout",
     "output_type": "stream",
     "text": [
      "-123.0587907\n",
      "87.91667\n",
      "25.7742658\n",
      "53.3497645\n"
     ]
    }
   ],
   "source": [
    "print(dfHQ.lon.min())\n",
    "print(dfHQ.lon.max())\n",
    "print(dfHQ.lat.min())\n",
    "print(dfHQ.lat.max())\n",
    "\n",
    "# Maps are too big in size for API"
   ]
  },
  {
   "cell_type": "code",
   "execution_count": 55,
   "metadata": {},
   "outputs": [
    {
     "data": {
      "image/png": "[encoded data removed]",
      "text/plain": [
       "<Figure size 432x288 with 1 Axes>"
      ]
     },
     "metadata": {
      "needs_background": "light"
     },
     "output_type": "display_data"
    }
   ],
   "source": [
    "dfHQ.plot(kind=\"scatter\", x=\"lon\", y=\"lat\", alpha=0.4)\n",
    "plt.show()"
   ]
  },
  {
   "cell_type": "code",
   "execution_count": null,
   "metadata": {},
   "outputs": [],
   "source": []
  },
  {
   "cell_type": "code",
   "execution_count": null,
   "metadata": {},
   "outputs": [],
   "source": []
  }
 ],
 "metadata": {
  "kernelspec": {
   "display_name": "Python 3",
   "language": "python",
   "name": "python3"
  },
  "language_info": {
   "codemirror_mode": {
    "name": "ipython",
    "version": 3
   },
   "file_extension": ".py",
   "mimetype": "text/x-python",
   "name": "python",
   "nbconvert_exporter": "python",
   "pygments_lexer": "ipython3",
   "version": "3.7.4"
  }
 },
 "nbformat": 4,
 "nbformat_minor": 2
}
